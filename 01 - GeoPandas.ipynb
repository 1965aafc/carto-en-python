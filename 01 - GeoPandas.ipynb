{
 "cells": [
  {
   "cell_type": "markdown",
   "metadata": {},
   "source": [
    "# GeoPandas\n",
    "\n",
    "Por: [Eduardo Graells-Garrido](http://datagramas.cl) (`egraells@udd.cl`).\n",
    "  \n",
    "Data Sources:\n",
    "\n",
    "  * [Biblioteca del Congreso Nacional](https://www.bcn.cl/siit/mapas_vectoriales/index_html)\n",
    "  * [Biblioteca SECTRA](http://www.sectra.gob.cl/encuestas_movilidad/encuestas_movilidad.htm)\n",
    "  * [GTFS Santiago](http://datos.gob.cl/dataset/33245)\n"
   ]
  },
  {
   "cell_type": "code",
   "execution_count": null,
   "metadata": {},
   "outputs": [],
   "source": [
    "import pandas as pd\n",
    "import geopandas as gpd\n",
    "import matplotlib.pyplot as plt\n",
    "import seaborn as sns\n",
    "import numpy as np\n",
    "\n",
    "# Esto configura la apariencia de los gráficos utilizando configuraciones de seaborn\n",
    "sns.set(context='poster', style='ticks', palette='inferno', font='Linux Biolinum O')\n",
    "\n",
    "# Esto es una instrucción de Jupyter que hace que los gráficos se desplieguen en el notebook\n",
    "%matplotlib inline"
   ]
  },
  {
   "cell_type": "code",
   "execution_count": null,
   "metadata": {},
   "outputs": [],
   "source": [
    "import matplotlib as mpl\n",
    "mpl.rcParams['figure.dpi']= 150"
   ]
  },
  {
   "cell_type": "markdown",
   "metadata": {},
   "source": [
    "## Proyecciones y Sistemas de Referencia\n",
    "\n",
    "  * Chile: <https://epsg.io/5361>\n",
    "  * Latitud/Longitud, nivel mundial: <https://epsg.io/4326>"
   ]
  },
  {
   "cell_type": "code",
   "execution_count": null,
   "metadata": {},
   "outputs": [],
   "source": [
    "!ls -l ./input/urban_areas/"
   ]
  },
  {
   "cell_type": "code",
   "execution_count": null,
   "metadata": {
    "scrolled": false
   },
   "outputs": [],
   "source": [
    "urban_areas = gpd.read_file('./input/urban_areas/', crs={'init': 'epsg:5361'})\n",
    "urban_areas"
   ]
  },
  {
   "cell_type": "code",
   "execution_count": null,
   "metadata": {},
   "outputs": [],
   "source": [
    "urban_areas.plot()"
   ]
  },
  {
   "cell_type": "code",
   "execution_count": null,
   "metadata": {},
   "outputs": [],
   "source": [
    "urban_areas_ll = urban_areas.to_crs({'init': 'epsg:4326'})"
   ]
  },
  {
   "cell_type": "code",
   "execution_count": null,
   "metadata": {},
   "outputs": [],
   "source": [
    "urban_areas_ll.plot()"
   ]
  },
  {
   "cell_type": "code",
   "execution_count": null,
   "metadata": {},
   "outputs": [],
   "source": [
    "urban_areas_ll[urban_areas.NOMBRE == 'Santiago'].plot()"
   ]
  },
  {
   "cell_type": "markdown",
   "metadata": {},
   "source": [
    "## Operaciones Geográficas"
   ]
  },
  {
   "cell_type": "code",
   "execution_count": null,
   "metadata": {},
   "outputs": [],
   "source": [
    "municipalities = gpd.read_file('./input/shapefile_comunas/', crs={'init': 'epsg:5361'})\n",
    "municipalities.plot()"
   ]
  },
  {
   "cell_type": "code",
   "execution_count": null,
   "metadata": {},
   "outputs": [],
   "source": [
    "municipalities[municipalities.NOM_PROV.isin(['Santiago', 'Maipo', 'Cordillera'])].plot()\n",
    "plt.axis('equal');"
   ]
  },
  {
   "cell_type": "code",
   "execution_count": null,
   "metadata": {},
   "outputs": [],
   "source": [
    "stgo_municipalities = gpd.sjoin(municipalities, urban_areas[urban_areas.NOMBRE == 'Santiago'], \n",
    "                                op='intersects')\n",
    "stgo_municipalities.shape"
   ]
  },
  {
   "cell_type": "code",
   "execution_count": null,
   "metadata": {},
   "outputs": [],
   "source": [
    "stgo_municipalities.plot(edgecolor='white')"
   ]
  },
  {
   "cell_type": "code",
   "execution_count": null,
   "metadata": {},
   "outputs": [],
   "source": [
    "ax = stgo_municipalities.plot(figsize=(12,12), edgecolor='black', facecolor='white')\n",
    "urban_areas[urban_areas.NOMBRE == 'Santiago'].plot(ax=ax, alpha=0.5, color='grey')"
   ]
  },
  {
   "cell_type": "code",
   "execution_count": null,
   "metadata": {},
   "outputs": [],
   "source": [
    "stgo = urban_areas[urban_areas.NOMBRE == 'Santiago'].geometry.values[0]\n",
    "stgo"
   ]
  },
  {
   "cell_type": "code",
   "execution_count": null,
   "metadata": {},
   "outputs": [],
   "source": [
    "def intersection(municipality, urban_area):\n",
    "    return municipality.intersection(urban_area)\n",
    "\n",
    "stgo_municipalities.head().geometry.map(lambda x: intersection(x, stgo))"
   ]
  },
  {
   "cell_type": "code",
   "execution_count": null,
   "metadata": {},
   "outputs": [],
   "source": [
    "def urban_part(municipality):\n",
    "    return intersection(municipality, stgo)"
   ]
  },
  {
   "cell_type": "code",
   "execution_count": null,
   "metadata": {},
   "outputs": [],
   "source": [
    "stgo_urban_municipalities = (stgo_municipalities.copy()\n",
    "                             .assign(geometry=lambda df_: df_['geometry'].map(urban_part))\n",
    "                             .pipe(lambda x: x[~x.NOM_COM.isin(['Lampa', 'Colina'])])\n",
    "                             .to_crs({'init': 'epsg:4326'}))\n",
    "stgo_urban_municipalities.shape"
   ]
  },
  {
   "cell_type": "code",
   "execution_count": null,
   "metadata": {},
   "outputs": [],
   "source": [
    "stgo_urban_municipalities.plot(column='NOM_PROV', edgecolor='white')\n",
    "#plt.axis('equal')"
   ]
  },
  {
   "cell_type": "code",
   "execution_count": null,
   "metadata": {},
   "outputs": [],
   "source": [
    "stgo_urban_municipalities.sample(5)"
   ]
  },
  {
   "cell_type": "markdown",
   "metadata": {},
   "source": [
    "## Rutas"
   ]
  },
  {
   "cell_type": "code",
   "execution_count": null,
   "metadata": {},
   "outputs": [],
   "source": [
    "# credits to Diego for this\n",
    "\n",
    "from shapely.geometry import LineString\n",
    "import geopandas as gpd\n",
    "import pandas as pd\n",
    "\n",
    "# @todo: add day of the week (calendar.txt)\n",
    "# @done: filter by route intersected with a polygon\n",
    "#        this can be done using intersection afterwards\n",
    "# @done: return the name of each route (nombre recorrido ej: C02c)\n",
    "\n",
    "\n",
    "def gtfs_routes(gtfspath='input/gtfsv34'):\n",
    "    # agencia que entrega la informacion\n",
    "    agency = pd.read_csv(gtfspath + '/agency.txt')\n",
    "    \n",
    "    # forma del recorrido (geometria)\n",
    "    shapes = pd.read_csv(gtfspath + '/shapes.txt')\n",
    "    \n",
    "    # nombre del recorrido (metadatos)\n",
    "    routes = pd.read_csv(gtfspath + '/routes.txt')\n",
    "    \n",
    "    # metadatos viajes de cada recorrido, existen para cada ruta\n",
    "    trips = pd.read_csv(gtfspath + '/trips.txt')\n",
    "\n",
    "    trips_routes = trips.drop_duplicates('shape_id').merge(routes)\n",
    "    # there are many trips with the same shape because a route can be\n",
    "    # repeated during the day, we only keep one of those.\n",
    "    # Keep in mind that this will need to be improved for retrieving the\n",
    "    # day of the week.\n",
    "    shapes_trips_routes = shapes.merge(trips_routes)\n",
    "    \n",
    "    toLineString = lambda x: LineString(x.loc[:,('shape_pt_lon', 'shape_pt_lat')].values)\n",
    "\n",
    "    # classic lat/lon\n",
    "    crs_latlon = {'init': 'epsg:4326'}\n",
    "    lines = gpd.GeoSeries(shapes_trips_routes.groupby('shape_id').apply(toLineString), crs=crs_latlon)\n",
    "    route_data = (shapes_trips_routes.drop_duplicates('shape_id').set_index('shape_id')\n",
    "                               .loc[:,('route_color','route_short_name','agency_id')] )\n",
    "    route_data['route_color'] = '#' + route_data['route_color']\n",
    "    shapes_agency_gdf = gpd.GeoDataFrame(route_data, geometry = lines).reset_index()\n",
    "    return shapes_agency_gdf"
   ]
  },
  {
   "cell_type": "code",
   "execution_count": null,
   "metadata": {},
   "outputs": [],
   "source": [
    "gtfs = gtfs_routes()"
   ]
  },
  {
   "cell_type": "code",
   "execution_count": null,
   "metadata": {},
   "outputs": [],
   "source": [
    "gtfs.head()"
   ]
  },
  {
   "cell_type": "code",
   "execution_count": null,
   "metadata": {},
   "outputs": [],
   "source": [
    "gtfs.plot(linewidth=1)"
   ]
  },
  {
   "cell_type": "code",
   "execution_count": null,
   "metadata": {},
   "outputs": [],
   "source": [
    "ax = None\n",
    "for idx, group in gtfs.groupby('route_color'):\n",
    "    ax = group.plot(color=idx, ax=ax, linewidth=1)"
   ]
  },
  {
   "cell_type": "code",
   "execution_count": null,
   "metadata": {},
   "outputs": [],
   "source": [
    "from carpynter import plot_lines"
   ]
  },
  {
   "cell_type": "code",
   "execution_count": null,
   "metadata": {},
   "outputs": [],
   "source": [
    "plot_lines(gtfs, color_column='route_color', figsize=14)"
   ]
  },
  {
   "cell_type": "code",
   "execution_count": null,
   "metadata": {},
   "outputs": [],
   "source": [
    "def plot_routes(gtfs, ax, color=None, linewidth=None):\n",
    "    for idx, group in gtfs.groupby('route_color'):\n",
    "        group.plot(color=idx if color is None else color, ax=ax, linewidth=linewidth)  \n",
    "\n",
    "ax = stgo_urban_municipalities.plot(figsize=(18,16), color='#EFEFEF', edgecolor='#444444')\n",
    "plot_routes(gtfs[gtfs.agency_id == 'TS'], ax, linewidth=1, color='#777777')\n",
    "plot_routes(gtfs[gtfs.agency_id == 'M'], ax, linewidth=4)\n",
    "ax.set_axis_off()"
   ]
  },
  {
   "cell_type": "code",
   "execution_count": null,
   "metadata": {},
   "outputs": [],
   "source": []
  }
 ],
 "metadata": {
  "kernelspec": {
   "display_name": "Python 3",
   "language": "python",
   "name": "python3"
  },
  "language_info": {
   "codemirror_mode": {
    "name": "ipython",
    "version": 3
   },
   "file_extension": ".py",
   "mimetype": "text/x-python",
   "name": "python",
   "nbconvert_exporter": "python",
   "pygments_lexer": "ipython3",
   "version": "3.5.2"
  }
 },
 "nbformat": 4,
 "nbformat_minor": 2
}
