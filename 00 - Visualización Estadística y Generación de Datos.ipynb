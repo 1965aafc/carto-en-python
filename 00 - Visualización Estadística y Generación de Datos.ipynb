{
 "cells": [
  {
   "cell_type": "markdown",
   "metadata": {},
   "source": [
    "# Visualización Estadística en Python\n",
    "\n",
    "Por **Eduardo Graells-Garrido (egraells@udd.cl)**.\n",
    "\n",
    "En este notebook exploraremos distintos tipos de visualizaciones para estadística. Lo haremos con las bibliotecas `matplotlib` y `seaborn`, trabajando sobre `pandas`.\n",
    "\n",
    "Trabajaremos con datos *reales*: la encuesta CASEN del año 2013 y la encuesta EOD del año 2012. La primera es de caracterización socio-económica del país y la segunda de transporte en Santiago. Específicamente, realizaremos un análisis exploratorio de estas encuestas, enfocándonos en preguntas específicas que plantearemos, y también a las preguntas que vayan surgiendo en clases.\n",
    "\n",
    "Luego cruzaremos los datos de ambas encuestas para ver si encontramos algún link interesante entre la socio-economía y la movilidad de las comunas de Santiago.\n",
    "\n",
    "Comencemos."
   ]
  },
  {
   "cell_type": "markdown",
   "metadata": {},
   "source": [
    "## Preámbulo\n",
    "\n",
    "El primer paso es importar las bibliotecas necesarias para poder trabajar. Usaremos las bibliotecas `numpy` (vectores), `pandas`(DataFrames), `matplotlib` (visualización de bajo nivel) y `seaborn` (visualización estadística). \n",
    "\n",
    "Ya tienen experiencia con estas cuatro bibliotecas, pero hoy profundizaremos un poco más en las dos últimas."
   ]
  },
  {
   "cell_type": "code",
   "execution_count": null,
   "metadata": {},
   "outputs": [],
   "source": [
    "import pandas as pd\n",
    "import matplotlib.pyplot as plt\n",
    "import seaborn as sns\n",
    "import numpy as np\n",
    "\n",
    "# Esto configura la apariencia de los gráficos utilizando configuraciones de seaborn\n",
    "sns.set(context='poster', style='ticks', palette='inferno', font='Linux Biolinum O')\n",
    "\n",
    "# Esto es una instrucción de Jupyter que hace que los gráficos se desplieguen en el notebook\n",
    "%matplotlib inline"
   ]
  },
  {
   "cell_type": "markdown",
   "metadata": {},
   "source": [
    "## `matplotlib`\n",
    "\n",
    "`matplotlib` es una biblioteca de **bajo nivel** para visualización en Python, con un paradigma **imperativo**.\n",
    "\n",
    "  * De bajo nivel quiere decir que entrega las primitivas gráficas necesarias para crear visualizaciones más complejtas.\n",
    "  * Imperativo quiere decir que se focaliza en las instrucciones que recibe la biblioteca, ya que no _abstrae_ las operaciones o codificaciones visuales de modo que operemos sobre éstas."
   ]
  },
  {
   "cell_type": "markdown",
   "metadata": {},
   "source": [
    "## `seaborn`\n",
    "\n",
    "`seaborn` es una biblioteca que se construye _sobre_ `matplotlib`, y que incluye gráficos estadísticos y algunas funcionalidades avanzadas de modelamiento y reducción de complejidad. Esto permite _hacer más con menos código_. \n",
    "\n",
    "Al mismo tiempo, `seaborn` incluye opciones para trabajar con la codificación visual de manera más efectiva que `matplotlib`, por ejemplo, a través de la facilitación de elección de paletas de colores, o de la detección de parámetros siguiendo buenas prácticas.\n",
    "\n",
    "Y para completar más esta oferta, `seaborn` es directamente compatible con `pandas`. `matplotlib` también, pero no de manera nativa, por lo que todo lo que se relaciona con `pandas` requiere más trabajo.\n",
    "\n",
    "Oh, vemos que no solamente hizo el gráfico, sino que incluso etiquetó automáticamente el eje $x$.\n",
    "\n",
    "Sin embargo, en `seaborn` la idea no es reemplazar los métodos de `matplotlib`. En realidad, lo que haremos será trabajar de manera diferente. Lo primero que debemos hacer es cambiar el formato de los datos. \n",
    "\n",
    "En `seaborn` se trabaja con **tidy data**. O datos ordenaditos.\n",
    "\n",
    "En el dataframe `df` tenemos tres observaciones por fila. No es un dataframe ordenadito. Un dataframe ordenadito tendría una observación por fila. \n",
    "\n",
    "(Aquí hay dos explicaciones interesantes sobre _tidy data_: en [R](http://garrettgman.github.io/tidying/) y en [Python](http://www.jeannicholashould.com/tidy-data-in-python.html). El paper que explica el razonamiento detrás está [aquí](http://courses.had.co.nz.s3-website-us-east-1.amazonaws.com/12-rice-bdsi/slides/07-tidy-data.pdf)).\n",
    "\n",
    "Afortunadamente, `pandas` nos permite convertir un dataframe en formato _longform_ a uno en formato _tidy_ con la función `pd.melt`."
   ]
  },
  {
   "cell_type": "markdown",
   "metadata": {},
   "source": [
    "## Analicemos Datos Reales\n",
    "\n",
    "Exploremos y expandamos nuestra exploración de visualizaciones estadísticas a través del análisis de datos reales. Utilizaremos la Encuesta Origen-Destino de Viajes de Santiago (2012) y la encuesta CASEN (2013)."
   ]
  },
  {
   "cell_type": "code",
   "execution_count": null,
   "metadata": {},
   "outputs": [],
   "source": [
    "def load_casen():\n",
    "    # el archivo Casen2013.csv.gz contiene la base de datos en formato comprimido.\n",
    "    casen = pd.read_csv('./input/2013_casen_survey/Casen2013.csv.gz', sep=',', \n",
    "                        encoding='iso-8859-1')\n",
    "    \n",
    "    # nos quedaremos solamente con la Región Metropolitana\n",
    "    casen = casen[casen.region == 13].copy()\n",
    "    \n",
    "    # Esta es una manera fea de transformar los identificadores de comuna en nombres\n",
    "    name_map = dict(zip([13101, 13102, 13103\n",
    "    ,13104,13105,13106,13107,13108,13109,13110,13111,13112,13113,13114,13115,13116,13117,13118,13119,13120,13121,13122,13123\n",
    "    ,13124,13125,13126,13127,13128,13129,13130,13131,13132,13201,13202,13203,13301,13302,13303,13401,13402,13403,13404,13501,\n",
    "                     13502, 13503, 13504, 13505, 13601, 13602, 13603, 13604, 13605],\n",
    "        map(lambda x: x.title(), ['Santiago', 'Cerrillos', 'Cerro Navia', 'Conchalí',\n",
    "        'El Bosque', 'Estación Central', 'Huechuraba', 'Independencia', 'La Cisterna',\n",
    "        'La Florida', 'La Granja', 'La Pintana',\n",
    "        'La Reina','Las Condes','Lo Barnechea','Lo Espejo', 'Lo Prado',\n",
    "        'Macul','Maipú','Ñuñoa','Pedro Aguirre Cerda','Peñalolén',\n",
    "        'Providencia','Pudahuel','Quilicura','Quinta Normal','Recoleta','Renca',\n",
    "        'San Joaquín','San Miguel','San Ramón','Vitacura','Puente Alto','Pirque',\n",
    "        'San José de Maipo','Colina','Lampa','Tiltil','San Bernardo','Buin',\n",
    "        'Calera de Tango','Paine','Melipilla','Alhué','Curacaví','María Pinto','San Pedro',\n",
    "        'Talagante','El Monte','Isla de Maipo','Padre Hurtado','Peñaflor'\n",
    "        ])))\n",
    "\n",
    "    # aquí aplicamos la transformación y guardamos el resultado en una nueva columna\n",
    "    casen['municipality'] = casen['comuna'].map(lambda x: name_map[x])\n",
    "    return casen\n",
    "\n",
    "casen = load_casen()\n",
    "casen.shape"
   ]
  },
  {
   "cell_type": "code",
   "execution_count": null,
   "metadata": {},
   "outputs": [],
   "source": [
    "# la encuesta tiene tantas columnas que hacemos esto para imprimirlas todas\n",
    "pd.set_option('max_columns', 1000)"
   ]
  },
  {
   "cell_type": "code",
   "execution_count": null,
   "metadata": {},
   "outputs": [],
   "source": [
    "casen.sample(3)"
   ]
  },
  {
   "cell_type": "code",
   "execution_count": null,
   "metadata": {},
   "outputs": [],
   "source": [
    "print(list(casen.columns))"
   ]
  },
  {
   "cell_type": "markdown",
   "metadata": {},
   "source": [
    "Como pueden ver, son muchísimas columnas -- es una encuesta compleja. En la carpeta `input` hay un archivo en PDF donde se explica el significado y posibles valores de cada respuesta.\n",
    "\n",
    "### Relación entre Satisfacción con la Vida e Ingreso\n",
    "\n",
    "Una de las preguntas que me llama mucho la atención es la que dice:\n",
    "\n",
    "> Considerando todas las cosas, ¿qué tan satisfecho se encuentra con su vida?\n",
    "\n",
    "La respuesta va de 1 (insatisfacción total) a 10 (satisfacción total).\n",
    "\n",
    "Estudiaremos las relaciones entre esa pregunta, que tiene código `r20`, con otras variables del dataset.\n",
    "\n",
    "Partamos con el ingreso del hogar, que tiene código `ytotcorh`. Podemos ver su distribución con un `sns.distplot`:"
   ]
  },
  {
   "cell_type": "code",
   "execution_count": null,
   "metadata": {},
   "outputs": [],
   "source": [
    "sns.distplot(casen.ytotcorh)"
   ]
  },
  {
   "cell_type": "markdown",
   "metadata": {},
   "source": [
    "¡Oh! Como los ingresos de la RM están sesgados, la distribución se ve bastante fea. Quizás deberíamos probar otro tipo de visualización, como las que entrega `sns.factorplot`:"
   ]
  },
  {
   "cell_type": "code",
   "execution_count": null,
   "metadata": {},
   "outputs": [],
   "source": [
    "sns.factorplot(x='municipality', y='ytotcorh', data=casen, aspect=3, size=6, kind='bar')\n",
    "plt.xticks(rotation=90);"
   ]
  },
  {
   "cell_type": "markdown",
   "metadata": {},
   "source": [
    "Que bien, esto ya nos sirve para empezar a hacer análisis. Vemos que cada comuna tiene una barra asociada, que muestra el ingreso promedio por comuna, y una barra de error que representa la variabilidad, mostrando el intervalo de confianza del 95%. \n",
    "\n",
    "Lo que nos gustaría es poder ordenarlo. Para eso debemos calcular el orden nosotros:"
   ]
  },
  {
   "cell_type": "code",
   "execution_count": null,
   "metadata": {},
   "outputs": [],
   "source": [
    "municipalities_by_income = (casen.groupby('municipality')\n",
    "                            .aggregate({'ytotcorh': 'mean'})\n",
    "                            .sort_values('ytotcorh'))"
   ]
  },
  {
   "cell_type": "markdown",
   "metadata": {},
   "source": [
    "También aprovecharemos de usar un color fijo para las barras. No tiene sentido en este caso que las barras tengan colores diferentes:"
   ]
  },
  {
   "cell_type": "code",
   "execution_count": null,
   "metadata": {},
   "outputs": [],
   "source": [
    "sns.factorplot(x='municipality', y='ytotcorh', data=casen, aspect=3, size=6, kind='bar',\n",
    "               order=municipalities_by_income.index, color='grey')\n",
    "plt.xticks(rotation=90);"
   ]
  },
  {
   "cell_type": "markdown",
   "metadata": {},
   "source": [
    "¡Qué bien! Es un gráfico sencillo pero que a la vez comunica muchas cosas. Vemos la distribución del ingreso por comunas de manera impactante. Simplificando, esencialmente hay tres grupos de comunas: las muy, muy ricas, las ricas, y el resto, desde Santiago hacia abajo.\n",
    "\n",
    "Digo _simplificando_ porque hasta aquí hemos obviado algunas cosas. Por un lado, cada hogar encuestado tiene una ponderación dentro de la muestra, llamada _factor de expansión_, que hemos ignorado. Y el ingreso que estamos viendo es a nivel de hogar, no de persona entrevistada. \n",
    "\n",
    "Y cada persona entrevistada es una observación en la base de datos. Es decir, hemos estado considerando duplicados en ese gráfico."
   ]
  },
  {
   "cell_type": "code",
   "execution_count": null,
   "metadata": {},
   "outputs": [],
   "source": [
    "# uso la conversión a int para que se muestre el valor completo.\n",
    "casen.folio.astype(np.int).head(10)"
   ]
  },
  {
   "cell_type": "markdown",
   "metadata": {},
   "source": [
    "Como se observa, hay folios repetidos."
   ]
  },
  {
   "cell_type": "code",
   "execution_count": null,
   "metadata": {},
   "outputs": [],
   "source": [
    "casen.ytotcorh.head(10)"
   ]
  },
  {
   "cell_type": "markdown",
   "metadata": {},
   "source": [
    "Y por tanto, ingresos también. Hagamos un dataframe sin duplicados:"
   ]
  },
  {
   "cell_type": "code",
   "execution_count": null,
   "metadata": {},
   "outputs": [],
   "source": [
    "casen_homes = casen.drop_duplicates('folio', keep='first').copy()\n",
    "casen.shape, casen_homes.shape"
   ]
  },
  {
   "cell_type": "code",
   "execution_count": null,
   "metadata": {},
   "outputs": [],
   "source": [
    "municipalities_by_home_income = (casen_homes.groupby('municipality')\n",
    "                            .aggregate({'ytotcorh': 'mean'})\n",
    "                            .sort_values('ytotcorh')\n",
    "                            .rename(columns={'ytotcorh': 'home_income'}))\n",
    "#municipalities_by_home_income"
   ]
  },
  {
   "cell_type": "code",
   "execution_count": null,
   "metadata": {},
   "outputs": [],
   "source": [
    "sns.factorplot(x='municipality', y='ytotcorh', data=casen_homes, aspect=3, size=6, kind='bar',\n",
    "               order=municipalities_by_home_income.index, color='grey')\n",
    "plt.xticks(rotation=90);"
   ]
  },
  {
   "cell_type": "markdown",
   "metadata": {},
   "source": [
    "Quizás al ver los gráficos nos cuesta encontrar la diferencia. Podemos hacer una rápida exploración para ver quiénes cambiaron."
   ]
  },
  {
   "cell_type": "code",
   "execution_count": null,
   "metadata": {},
   "outputs": [],
   "source": [
    "municipality_features = municipalities_by_income.join(municipalities_by_home_income)"
   ]
  },
  {
   "cell_type": "code",
   "execution_count": null,
   "metadata": {},
   "outputs": [],
   "source": [
    "plt.figure(figsize=(12,9))\n",
    "plt.scatter(municipalities_by_income.ytotcorh, municipality_features.home_income)\n",
    "plt.plot([0, 4*10**6], [0, 4*10**6], ls=\"--\", c=\".3\")\n",
    "for idx, row in municipality_features.iterrows():\n",
    "    plt.annotate(xy=(row.ytotcorh, row.home_income), s=idx)\n",
    "sns.despine()"
   ]
  },
  {
   "cell_type": "markdown",
   "metadata": {},
   "source": [
    "Las comunas que están más cerca de la diagonal son las que tenían menos error. Las comunas más ricas tenían un error más pronunciado, pero ya que ganaban más dinero era esperable."
   ]
  },
  {
   "cell_type": "markdown",
   "metadata": {},
   "source": [
    "Ahora empecemos a mirar la **satisfacción con la vida**."
   ]
  },
  {
   "cell_type": "code",
   "execution_count": null,
   "metadata": {},
   "outputs": [],
   "source": [
    "casen.r20.sample(10)"
   ]
  },
  {
   "cell_type": "markdown",
   "metadata": {},
   "source": [
    "Lamentablemente no todas las personas respondieron esa pregunta, por eso hay `NaN`s. Veamos los resultados:"
   ]
  },
  {
   "cell_type": "code",
   "execution_count": null,
   "metadata": {},
   "outputs": [],
   "source": [
    "pd.isnull(casen.r20).sum(), casen.shape[0]"
   ]
  },
  {
   "cell_type": "markdown",
   "metadata": {},
   "source": [
    "Solamente 22 mil de 36 mil. Contemos la cantidad de respuestas utilizando el método `sns.countplot`, que es un histograma _categórico_. Recordemos que el histograma discretiza una variable continua en _bins_. En este caso eso no es completamente adecuado, porque no contaremos la cantidad de respuestas entre 4.5 y 5.5 (por dar un ejemplo). Queda así:"
   ]
  },
  {
   "cell_type": "code",
   "execution_count": null,
   "metadata": {},
   "outputs": [],
   "source": [
    "sns.countplot(casen.r20, color='pink')\n",
    "sns.despine()"
   ]
  },
  {
   "cell_type": "markdown",
   "metadata": {},
   "source": [
    "Si vemos el PDF de la encuesta sabremos que el valor `99` es \"No responde.\" No conozco la diferencia entre `99` y `NaN`. Seguro es semántica: quizás alguien en `NaN` no estaba habilitado para responder, mientras que `99` es _decidir_ no responder. Sin embargo, esto no se especifica en el documento.\n",
    "\n",
    "Guardemos las respuestas válidas:"
   ]
  },
  {
   "cell_type": "code",
   "execution_count": null,
   "metadata": {},
   "outputs": [],
   "source": [
    "casen_satisfaction = casen[casen.r20 <= 10].copy()\n",
    "casen_satisfaction.shape"
   ]
  },
  {
   "cell_type": "markdown",
   "metadata": {},
   "source": [
    "Y estimemos la distribución por comunas, manteniendo el orden que teníamos antes.\n",
    "\n",
    "Esta vez usaremos `sns.factorplot` con `kind=point`, que es más fácil de comparar que el gráfico de barras, pero hay que considerar que el gráfico no parte en 0, por lo que las diferencias son más pequeñas de lo que puede observarse:"
   ]
  },
  {
   "cell_type": "code",
   "execution_count": null,
   "metadata": {
    "scrolled": false
   },
   "outputs": [],
   "source": [
    "sns.factorplot(x='municipality', y='r20', data=casen_satisfaction, aspect=3, size=6, kind='point',\n",
    "               order=municipalities_by_home_income.index, color='grey', join=False)\n",
    "plt.xticks(rotation=90);"
   ]
  },
  {
   "cell_type": "markdown",
   "metadata": {},
   "source": [
    "Oh, pasa algo muy interesante. El orden de la pregunta `r20` no calza del todo con el orden de `ytotcorh`. Lo estudiaremos más adelante."
   ]
  },
  {
   "cell_type": "markdown",
   "metadata": {},
   "source": [
    "Antes, quizás podamos ver la distribución de `r20` de acuerdo a otras variables. Por ejemplo, el estado civil. En el PDF se menciona el siguiente diccionario:\n",
    "\n",
    "  * 1: Casado\n",
    "  * 2: Conviviente\n",
    "  * 3: Anulado\n",
    "  * 4: Separado\n",
    "  * 5: Divorciado\n",
    "  * 6: Viudo\n",
    "  * 7: Soltero\n",
    "  \n",
    "El `sns.countplot` correspondiente es:"
   ]
  },
  {
   "cell_type": "code",
   "execution_count": null,
   "metadata": {},
   "outputs": [],
   "source": [
    "sns.countplot(casen_satisfaction.ecivil, color='steelblue')\n",
    "sns.despine()"
   ]
  },
  {
   "cell_type": "markdown",
   "metadata": {},
   "source": [
    "Vemos que solamente las categorías 1, 2, 4, 6 y 7 tienen más de 1000 muestras. Enfoquémonos en ellas."
   ]
  },
  {
   "cell_type": "code",
   "execution_count": null,
   "metadata": {},
   "outputs": [],
   "source": [
    "g = sns.FacetGrid(data=casen_satisfaction, col='ecivil', row='sexo', hue='sexo',\n",
    "                  aspect=1.4, size=5, col_order=[1,2,4,6,7], palette='inferno')\n",
    "g.map(sns.countplot, 'r20', alpha=0.5)\n",
    "g.add_legend()"
   ]
  },
  {
   "cell_type": "markdown",
   "metadata": {},
   "source": [
    "Aunque es un gráfico completo, cuesta hacer las comparaciones. Recurramos nuevamente a `sns.factorplot`:\n",
    "\n",
    "(pd: les dejo como misterio los valores de la variable `sexo`. ¿pueden adivinarla?)"
   ]
  },
  {
   "cell_type": "code",
   "execution_count": null,
   "metadata": {},
   "outputs": [],
   "source": [
    "g = sns.factorplot(x='ecivil', y='r20', data=casen_satisfaction, order=[1,2,4,6,7], \n",
    "              kind='point', aspect=2, join=False, hue='sexo', dodge=True, palette='inferno')\n",
    "g.set_xticklabels(labels=['Casado(a)', 'Conviviente', 'Separado(a)', 'Viudo(a)', 'Soltero(a)'])"
   ]
  },
  {
   "cell_type": "markdown",
   "metadata": {},
   "source": [
    "Noten que usamos el parámetro `dodge=True` para poder diferenciar mejor los valores.\n",
    "\n",
    "Los intervalos de confianza se interceptan en la mayoría de los casos, lo cual indica que posiblemente no hay diferencias significativas, a pesar de que los promedios sean diferentes.\n",
    "\n",
    "Pasa algo interesante con la categoría de _les solteres_. ¡Es posible que la diferencia sea significativa! Pero recuerden: el gráfico no parte en base 0. La diferencia entre los promedios parece ser cercana a 0.25. \n",
    "\n",
    "Aparentemente, al estar solteres, el sexo `1` está _un pichintún_ más satisfecho con su vida que el sexo `2`.\n",
    "\n",
    "Les dejo propuesta la corroboración utilizando algún test estadístico.\n",
    "\n",
    "**Volvamos a las comunas**.\n",
    "\n",
    "Estimemos la satisfacción con la vida promedio a nivel comunal, considerando los factores de expansión, y luego la comparamos entre municipalidades utilizando el puntaje estándar.\n",
    "\n",
    "¿Por qué puntaje estándar?\n",
    "\n",
    "Porque algo no cuadra. Estos valores, que parecen muy altos, no han sido interpretados correctamente. Se dice que [gran parte de los chilenos está satisfecho con su vida](http://www.plataformaurbana.cl/archive/2015/02/28/encuesta-casen-en-dos-anos-suben-de-63-a-70-los-chilenos-que-estan-felices-con-su-vida/). Sin embargo, Chile también es un país con [preocupantes índices de depresión](http://www.elmostrador.cl/agenda-pais/vida-en-linea/2017/02/23/chile-se-ubica-por-sobre-el-promedio-mundial-en-indice-de-depresion-segun-nuevo-informe-de-la-oms/) y de [estrés](https://www.publimetro.cl/cl/nacional/2016/10/27/80-chilenos-viven-alto-nivel-estres.html). Entonces, ¿cómo interpretar estos números?\n",
    "\n",
    "¿Qué significa una satisfacción de `7`? Nadie lo sabe.\n",
    "\n",
    "Proponemos que lo correcto es ver los índices de satisfacción de manera relativa. Lo que importa no es si alguien dice `7` de `10`, sino qué tan arriba o abajo del promedio alguien dice estar satisfecho.\n",
    "\n",
    "Eso lo podemos medir con el puntaje estándar o _z-score_, definido así:\n",
    "\n",
    "$$z = \\frac{x - \\mu}{\\sigma}$$\n",
    "\n",
    "El puntaje estándar de una observación es su diferencia con el promedio, medido en desviaciones estándar de la variable.\n",
    "\n",
    "Sin embargo, antes de calcular $z$, necesitamos ver los factores de expansión:"
   ]
  },
  {
   "cell_type": "code",
   "execution_count": null,
   "metadata": {},
   "outputs": [],
   "source": [
    "casen_satisfaction.loc[:,('r20', 'expr', 'expc', 'expr_r20')].sample(5)"
   ]
  },
  {
   "cell_type": "markdown",
   "metadata": {},
   "source": [
    "Según el diccionario, esta pregunta debe usar el factor `expr_r20`. ¡Pero tiene muchos `NaN`!"
   ]
  },
  {
   "cell_type": "code",
   "execution_count": null,
   "metadata": {},
   "outputs": [],
   "source": [
    "pd.isnull(casen_satisfaction.expr_r20).sum()"
   ]
  },
  {
   "cell_type": "markdown",
   "metadata": {},
   "source": [
    "Nos quedamos con las observaciones no nulas en el factor:"
   ]
  },
  {
   "cell_type": "code",
   "execution_count": null,
   "metadata": {},
   "outputs": [],
   "source": [
    "casen_satisfaction = casen_satisfaction[~pd.isnull(casen_satisfaction.expr_r20)].copy()\n",
    "casen_satisfaction.shape"
   ]
  },
  {
   "cell_type": "markdown",
   "metadata": {},
   "source": [
    "Y calculamos un `r20` ajustado:"
   ]
  },
  {
   "cell_type": "code",
   "execution_count": null,
   "metadata": {},
   "outputs": [],
   "source": [
    "casen_satisfaction['adjusted_r20'] = casen_satisfaction.r20 * casen_satisfaction.expr_r20"
   ]
  },
  {
   "cell_type": "markdown",
   "metadata": {},
   "source": [
    "Ahora agrupamos. Comento el código con lo que estamos haciendo:"
   ]
  },
  {
   "cell_type": "code",
   "execution_count": null,
   "metadata": {},
   "outputs": [],
   "source": [
    "def z_score(col):\n",
    "    return (col - col.mean()) / col.std()\n",
    "\n",
    "# agrupamos por municipalidad\n",
    "satisfaction = (casen_satisfaction.groupby('municipality')\n",
    "                # calculamos la suma total de r20 y de r20 ajustado\n",
    "                .aggregate({'r20': 'sum', 'adjusted_r20': 'sum'})\n",
    "                # calculamos el factor expandido total para cada municipalidad\n",
    "                .join(casen.groupby('municipality').aggregate({'expr_r20': 'sum'}))\n",
    "                # esto nos permite calcular el promedio expandido\n",
    "                .assign(exp_average=lambda x: x['adjusted_r20'] / x['expr_r20'])\n",
    "                # calculamos z-score de este promedio\n",
    "                .assign(z_satisfaction=lambda x: z_score(x['exp_average']))\n",
    "                # ordenamos el dataframe resultante\n",
    "                .sort_values('z_satisfaction'))\n",
    "#satisfaction"
   ]
  },
  {
   "cell_type": "markdown",
   "metadata": {},
   "source": [
    "Grafiquemos los resultados. Primero, el promedio:"
   ]
  },
  {
   "cell_type": "code",
   "execution_count": null,
   "metadata": {},
   "outputs": [],
   "source": [
    "sns.factorplot(x='municipality', y='exp_average', data=satisfaction.reset_index(), \n",
    "               aspect=3, size=6, kind='bar',\n",
    "               order=satisfaction.index, color='grey')\n",
    "plt.xticks(rotation=90);"
   ]
  },
  {
   "cell_type": "markdown",
   "metadata": {},
   "source": [
    "Noten que ya no hay barras de error. Esto es porque a `sns.factorplot` le hemos entregado una observación por comuna.\n",
    "\n",
    "Veamos el puntaje estándar:"
   ]
  },
  {
   "cell_type": "code",
   "execution_count": null,
   "metadata": {},
   "outputs": [],
   "source": [
    "sns.factorplot(x='municipality', y='z_satisfaction', data=satisfaction.reset_index(), \n",
    "               aspect=3, size=6, kind='bar',\n",
    "               order=satisfaction.index, color='grey')\n",
    "plt.xticks(rotation=90);"
   ]
  },
  {
   "cell_type": "markdown",
   "metadata": {},
   "source": [
    "Wow, creo que se ve muy bien :)\n",
    "\n",
    "Considerando cómo calculamos `r20` con expansión, hagamos lo mismo con el ingreso:"
   ]
  },
  {
   "cell_type": "code",
   "execution_count": null,
   "metadata": {},
   "outputs": [],
   "source": [
    "# here we can use the municipal expansion (but it's not recommended... je je je)\n",
    "casen_homes['adjusted_income'] = casen_homes.ytotcorh * casen.expc\n",
    "\n",
    "income = (casen_homes.groupby('municipality')\n",
    "                .aggregate({'ytotcorh': 'sum', 'adjusted_income': 'sum'})\n",
    "                .join(casen_homes.groupby('municipality').aggregate({'expc': 'sum'}))\n",
    "                .assign(exp_average=lambda x: (x['adjusted_income'] / x['expc']).astype(np.int))\n",
    "                .rename(columns={'exp_average': 'average_income'}))\n",
    "#income"
   ]
  },
  {
   "cell_type": "markdown",
   "metadata": {},
   "source": [
    "Unamos ambos dataframes (ingreso y satisfacción) en uno solo, para poder comparar resultados:"
   ]
  },
  {
   "cell_type": "code",
   "execution_count": null,
   "metadata": {},
   "outputs": [],
   "source": [
    "municipality_features = satisfaction.join(income).loc[:,('z_satisfaction', 'average_income')]"
   ]
  },
  {
   "cell_type": "markdown",
   "metadata": {},
   "source": [
    "Veamos si están correlacionadas ambas características de las municipalidades. Podemos usar el método `sns.jointplot`. Calcularemos la correlación de _spearman_ puesto que nuestras variables no están distribuidas de manera normal (en tal caso hubiésemos podido utilizar la de _pearson_):"
   ]
  },
  {
   "cell_type": "code",
   "execution_count": null,
   "metadata": {},
   "outputs": [],
   "source": [
    "from scipy.stats import spearmanr\n",
    "\n",
    "sns.jointplot('average_income', 'z_satisfaction', \n",
    "              municipality_features,\n",
    "              size=9, \n",
    "              stat_func=spearmanr)"
   ]
  },
  {
   "cell_type": "markdown",
   "metadata": {},
   "source": [
    "No es una correlación significativa. Pero sí podemos ver que, a ingresos bajos y medios, está todo el espectro de satisfacción, pero que en ingresos altos, no hay comunas insatisfechas.\n",
    "\n",
    "Este resultado no es nuevo. En un [estudio](http://science.sciencemag.org/content/312/5782/1908.full?casa_token=WDhcGsXTGqMAAAAA:UZXfIidKtiatn-6D5cZSxAIuQpcJ8JSUHX3Q9QSdKxJnZiu0Tk60s4uAT5u--vkzSEBpLMHP4gEABA) de Daniel Kahnemann, titulado _\"Would You Be Happier If You Were Richer? A Focusing Illusion,\"_ encontraron este mismo resultado. ¡Lo hubiésemos calculado antes! :D"
   ]
  },
  {
   "cell_type": "markdown",
   "metadata": {
    "collapsed": true
   },
   "source": [
    "## Encuesta Origen-Destino de Santiago, 2012\n",
    "\n",
    "La Encuesta Origen-Destino de Santiago, efectuada por última vez el año 2012, es el instrumento principal que utilizan las autoridades para tomar decisiones respecto a transporte en la ciudad. Consistió en entrevistar a los residentes de más de 18000 hogares haciéndoles la siguiente pregunta:\n",
    "\n",
    "> ¿Cuáles viajes hiciste ayer?\n",
    "\n",
    "Las personas encuestadas responden a través de un diario de viaje. En este diario incluyen todos los datos pertinentes de sus viajes: a qué hora lo iniciaron, a qué hora terminaron, los puntos de origen y destino (coordenadas), el propósito del viaje, el/los modo(s) de viaje utilizados, etc. También incluye información socio-demográfica de cada persona que responde.\n",
    "\n",
    "La encuesta es representativa a nivel comunal. Esto quiere decir que podemos sacar conclusiones sobre como se moviliza la población de Providencia, pero no de un barrio específico de la comuna. Puede ser que exista información de ese barrio específico, pero no podemos sacar conclusiones extrapolables al barrio completo.\n",
    "\n",
    "Lo que haremos entonces es calcular algunas métricas a nivel comunal y correlacionarlas con lo que estimamos en la encuesta CASEN."
   ]
  },
  {
   "cell_type": "code",
   "execution_count": null,
   "metadata": {},
   "outputs": [],
   "source": [
    "# éste es un archivo preprocesado con datos de la encuesta\n",
    "travel_survey = (pd.read_csv('./intermediate/stgo-travel-survey-2012.csv.gz')\n",
    "                 .assign(departure_time=lambda x: pd.to_timedelta(x['HoraIni']))\n",
    "                 .assign(arrival_time=lambda x: pd.to_timedelta(x['HoraFin']))\n",
    "                 .assign(trip_duration=lambda x: (x['arrival_time'] - x['departure_time']) / pd.Timedelta(minutes=1))\n",
    "                )\n",
    "travel_survey.sample(5)"
   ]
  },
  {
   "cell_type": "code",
   "execution_count": null,
   "metadata": {},
   "outputs": [],
   "source": [
    "travel_survey.columns"
   ]
  },
  {
   "cell_type": "markdown",
   "metadata": {},
   "source": [
    "Limpiaremos un poco los viajes para que podamos entender mejor los resultados."
   ]
  },
  {
   "cell_type": "code",
   "execution_count": null,
   "metadata": {},
   "outputs": [],
   "source": [
    "# viajes con distancia mayor a 250 metros\n",
    "travel_survey = travel_survey[(travel_survey.DistManhattan >= 250)\n",
    "                  # el dataset no incluye el \"especifique\" así que lo sacamos\n",
    "                  & (travel_survey.Proposito != 'Otra actividad (especifique)')\n",
    "                  # estamos analizando la RM así que sacamos viajes fuera de ésta\n",
    "                  & (~travel_survey.SectorOrigen.isin(['Exterior a RM'])) \n",
    "                  & (~travel_survey.Sector.isin(['Exterior a RM']))\n",
    "                  & (~travel_survey.SectorDestino.isin(['Exterior a RM']))\n",
    "                  # para los modos de viaje, tampoco se indica qué es \"otros\"\n",
    "                  & ~(travel_survey.ModoDifusion == 'Otros')].copy()"
   ]
  },
  {
   "cell_type": "code",
   "execution_count": null,
   "metadata": {},
   "outputs": [],
   "source": [
    "travel_survey.shape, travel_survey.columns"
   ]
  },
  {
   "cell_type": "markdown",
   "metadata": {},
   "source": [
    "Visualicemos los propósitos de viaje de las personas:"
   ]
  },
  {
   "cell_type": "code",
   "execution_count": null,
   "metadata": {},
   "outputs": [],
   "source": [
    "sns.countplot(y='Proposito', data=travel_survey, color='grey')\n",
    "sns.despine()"
   ]
  },
  {
   "cell_type": "markdown",
   "metadata": {},
   "source": [
    "Observamos que el propósito más común es \"volver a casa.\" Esto es esperado, puesto que todos los demás propósitos implican un retorno a algún lugar, excepto casos especiales."
   ]
  },
  {
   "cell_type": "markdown",
   "metadata": {},
   "source": [
    "Ahora utilicemos `sns.distplot` para ver a qué hora comienzan los viajes en la RM:"
   ]
  },
  {
   "cell_type": "code",
   "execution_count": null,
   "metadata": {},
   "outputs": [],
   "source": [
    "sns.distplot(travel_survey.HoraDeInicio)\n",
    "plt.xlim([5, 24])\n",
    "sns.despine()"
   ]
  },
  {
   "cell_type": "markdown",
   "metadata": {},
   "source": [
    "Aquí hay dos cosas interesantes.\n",
    "\n",
    "  1. Observen el patrón dentado del histograma. ¿A qué se debe? Recuerden que este dataset es una encuesta, por lo que la hora de inicio de viaje es la **reportada** por las personas. Tendemos a redondear los valores que reportamos. Nadie dice \"salí a las una, doce minutos, 3 segundos,\" sino que se dice \"salí a las una y cuarto.\" En ese aspecto, la estimación de la distribución utilizando Kernel Density Estimation funciona bien.\n",
    "  2. En el gráfico se observan tres horas _peak_: las dos usuales (punta mañana y punta tarde) y un tercer peak a la hora de almuerzo. Ahora bien, dadas las rutinas diarias de las personas, seguramente cada peak obedece a propósitos de viaje distinto.\n",
    "  \n",
    "Entonces desagregemos por propósito de viaje:"
   ]
  },
  {
   "cell_type": "code",
   "execution_count": null,
   "metadata": {},
   "outputs": [],
   "source": [
    "g = sns.FacetGrid(data=travel_survey, col='Proposito', col_wrap=3, aspect=2, sharey=False)\n",
    "g.map(sns.distplot, 'HoraDeInicio')\n",
    "g.add_legend()\n",
    "g.set(xlim=[5,24])"
   ]
  },
  {
   "cell_type": "markdown",
   "metadata": {},
   "source": [
    "Siguiendo la tónica que tuvimos cuando analizamos la CASEN, podríamos preguntarnos si existen diferencias de sexo en estos patrones. Esto lo podemos hacer de maneraq directa con el parámetro `hue='Sexo'`:"
   ]
  },
  {
   "cell_type": "code",
   "execution_count": null,
   "metadata": {},
   "outputs": [],
   "source": [
    "g = sns.FacetGrid(data=travel_survey, col='Proposito', hue='Sexo',\n",
    "                  col_wrap=3, aspect=2, sharey=False, palette='magma')\n",
    "g.map(sns.distplot, 'HoraDeInicio')\n",
    "g.add_legend()\n",
    "g.set(xlim=[5,24])"
   ]
  },
  {
   "cell_type": "markdown",
   "metadata": {},
   "source": [
    "Oh, vemos que algunos propósitos de viaje no exhiben diferencias en sus distribuciones, pero otros sí. Queda propuesta la interpretación de estos gráficos.\n",
    "\n",
    "Ahora veamos la _partición modal_ de cada comuna. Partición modal se refiere a la distribución de los modos de transporte utilizados, a un nivel específico. Por ejemplo, si queremos saber la partición modal de los viajes al trabajo, podemos usar `sns.countplot`:"
   ]
  },
  {
   "cell_type": "code",
   "execution_count": null,
   "metadata": {},
   "outputs": [],
   "source": [
    "sns.countplot(y='ModoDifusion', data=travel_survey[travel_survey.Proposito == 'Al trabajo'], \n",
    "              color='grey')\n",
    "sns.despine()"
   ]
  },
  {
   "cell_type": "markdown",
   "metadata": {},
   "source": [
    "Pero también podemos querer calcular la partición modal por sectores de la ciudad. Para eso, utilizaremos la operación `groupby` de `pandas` (nota: `FactorLaboralNormal` es el factor de expansión o ponderación para los viajes realizados en días laborales no estivales):"
   ]
  },
  {
   "cell_type": "code",
   "execution_count": null,
   "metadata": {},
   "outputs": [],
   "source": [
    "travel_survey.groupby(['Sector', 'ModoDifusion']).aggregate({'FactorLaboralNormal': 'sum'})"
   ]
  },
  {
   "cell_type": "markdown",
   "metadata": {},
   "source": [
    "Lo que quisiéramos hacer con esta tabla es normalizarla por sectores y visualizarla como un heatmap. Lo podemos hacer mezclando ambas cosas: la operación descrita y la función `sns.heatmap`:"
   ]
  },
  {
   "cell_type": "code",
   "execution_count": null,
   "metadata": {},
   "outputs": [],
   "source": [
    "modal_partition = (travel_survey[travel_survey.Proposito == 'Al trabajo']\n",
    "                   .groupby(['Sector', 'ModoDifusion'])\n",
    "                   .aggregate({'FactorLaboralNormal': 'sum'})\n",
    "                   .reset_index()\n",
    "                   # Arriba vemos cómo queda el resultado.\n",
    "                   # Para la función heatmap necesitamos que el formato sea \"longform\"\n",
    "                   # Eso lo logramos con pivot_table\n",
    "                   .pivot_table(index='Sector', values='FactorLaboralNormal', columns='ModoDifusion')\n",
    "                   # Esto permite normalizar cada fila. \n",
    "                   # https://stackoverflow.com/questions/18594469/normalizing-a-pandas-dataframe-by-row#18594595\n",
    "                   .pipe(lambda x: x.div(x.sum(axis=1), axis=0))\n",
    "                  )\n",
    "\n",
    "plt.figure(figsize=(9,6))\n",
    "sns.heatmap(modal_partition, cmap='magma_r', annot=True, linewidth=1, square=True, robust=True)"
   ]
  },
  {
   "cell_type": "markdown",
   "metadata": {},
   "source": [
    "Encontramos lo que todos sabemos: que el sector oriente es muy distinto al resto en lo que respecta al uso de tarjeta Bip! y autos. \n",
    "\n",
    "Pero también vemos que el centro también es diferente - quienes viven allí tienen una mayor tasa de viajes caminando al trabajo. ¡Qué envidia! \n",
    "\n",
    "Realicemos este mismo cálculo a nivel municipalidad:"
   ]
  },
  {
   "cell_type": "code",
   "execution_count": null,
   "metadata": {},
   "outputs": [],
   "source": [
    "municipality_modal_partition = (travel_survey[travel_survey.Proposito == 'Al trabajo']\n",
    "                   .groupby(['Comuna', 'ModoDifusion'])\n",
    "                   .aggregate({'FactorLaboralNormal': 'sum'})\n",
    "                   .reset_index()\n",
    "                   .pivot_table(index='Comuna', values='FactorLaboralNormal', columns='ModoDifusion')\n",
    "                   .fillna(0)\n",
    "                   .pipe(lambda x: x.div(x.sum(axis=1), axis=0))\n",
    "                  )\n",
    "\n",
    "plt.figure(figsize=(16,16))\n",
    "sns.heatmap(municipality_modal_partition, cmap='inferno_r', annot=True, linewidth=1, \n",
    "            robust=True)"
   ]
  },
  {
   "cell_type": "markdown",
   "metadata": {},
   "source": [
    "Esto es más difícil de observar. Noten que las filas están ordenadas alfabéticamente, lo que permite su fácil localización, pero al mismo tiempo dificulta las comparaciones.\n",
    "\n",
    "Quisiéramos que las filas y columnas que se parecen entre sí aparecieran juntas, de modo de poder hacer comparaciones de manera más fácil.\n",
    "\n",
    "Para eso está `sns.clustermap`:"
   ]
  },
  {
   "cell_type": "code",
   "execution_count": null,
   "metadata": {},
   "outputs": [],
   "source": [
    "g = sns.clustermap(municipality_modal_partition, cmap='viridis_r', annot=True, linewidth=1, figsize=(16,16),\n",
    "            metric='euclidean', method='ward', square=False, robust=True, \n",
    "            yticklabels=True)"
   ]
  },
  {
   "cell_type": "markdown",
   "metadata": {},
   "source": [
    "Ahora imaginen que con estos métodos se pueden visualizar otras variables. Queda propuesto ese ejercicio :)\n",
    "\n",
    "Revisemos uno de los outpus más conocidos de la Encuesta Origen Destino: la matriz OD.\n",
    "\n",
    "Definiremos una función que se llama `visualize_flow` y que recibe un dataframe de viajes."
   ]
  },
  {
   "cell_type": "code",
   "execution_count": null,
   "metadata": {},
   "outputs": [],
   "source": [
    "from sklearn.preprocessing import normalize\n",
    "\n",
    "def visualize_flow(dataframe):\n",
    "    flujos = (dataframe.groupby(['ComunaOrigen', 'ComunaDestino'])\n",
    "              .aggregate({'FactorLaboralNormal': 'sum'})\n",
    "              .reset_index())\n",
    "    flujos_comunales = pd.pivot_table(flujos, index='ComunaOrigen', columns='ComunaDestino', values='FactorLaboralNormal').fillna(0)\n",
    "    normalize(flujos_comunales, norm='l1', axis=1, copy=False)\n",
    "    g = sns.clustermap(flujos_comunales, cmap='inferno_r', square=True, linewidths=1, \n",
    "                   metric='cosine', method='ward')\n",
    "    # esto borra el clustermap\n",
    "    plt.clf()\n",
    "    plt.figure(figsize=(16, 16))\n",
    "    sns.heatmap(g.data2d, cmap='inferno_r', square=True, linewidths=1, cbar_kws={'shrink': 0.4},\n",
    "               xticklabels=True, yticklabels=True)"
   ]
  },
  {
   "cell_type": "markdown",
   "metadata": {},
   "source": [
    "Lo que hace esta función es contar los viajes de una comuna a otra (de `ComunaOrigen` a `ComunaDestino`). Luego hace la misma normalización que hicimos en los heatmaps anteriores. \n",
    "\n",
    "Partamos viendo los viajes al trabajo/al estudio, luego los de salud y finalmente los de compras:"
   ]
  },
  {
   "cell_type": "code",
   "execution_count": null,
   "metadata": {},
   "outputs": [],
   "source": [
    "visualize_flow(travel_survey[travel_survey['Proposito'].isin(['Al trabajo', 'Al estudio'])])"
   ]
  },
  {
   "cell_type": "code",
   "execution_count": null,
   "metadata": {},
   "outputs": [],
   "source": [
    "visualize_flow(travel_survey[travel_survey['Proposito'].isin(['De salud'])])"
   ]
  },
  {
   "cell_type": "code",
   "execution_count": null,
   "metadata": {},
   "outputs": [],
   "source": [
    "visualize_flow(travel_survey[travel_survey['Proposito'].isin(['De compras'])])"
   ]
  },
  {
   "cell_type": "markdown",
   "metadata": {},
   "source": [
    "Nuevamente, el análisis queda propuesto.\n",
    "\n",
    "¡Con esto ya tienen un buen set de visualizaciones estadísticas para explorar datos! :)\n",
    "\n",
    "Pero todavía no terminamos.\n",
    "\n",
    "### ¿Cómo cruzar ambos datasets?\n",
    "\n",
    "Haremos un pequeño ejercicio. Digamos que queremos comparar variables entre la CASEN y la EOD.\n",
    "\n",
    "La primera dificultad es que los nombres de comuna por hogar en la EOD tienen nombres que no son idénticos a los de la CASEN:"
   ]
  },
  {
   "cell_type": "code",
   "execution_count": null,
   "metadata": {},
   "outputs": [],
   "source": [
    "travel_survey.Comuna.sample(5)"
   ]
  },
  {
   "cell_type": "markdown",
   "metadata": {},
   "source": [
    "Además de que está todo en mayúscula, no incorpora los tildes.\n",
    "\n",
    "Podemos hacer una función en Python utilizando el módulo `difflib`, que tiene una clase llamada `SequenceMatcher` que nos dice qué tanto se parece una secuencia a otra. \n",
    "\n",
    "Si encapsulamos `SequenceMatcher` en una función, y llamamos a esa función con Peñalolén como prueba, pasa esto:"
   ]
  },
  {
   "cell_type": "code",
   "execution_count": null,
   "metadata": {},
   "outputs": [],
   "source": [
    "import difflib\n",
    "\n",
    "def similar(a, b):\n",
    "    return difflib.SequenceMatcher(None, a.lower(), b.lower()).ratio()\n",
    "\n",
    "similar('PEÑALOLEN', 'Peñalolén')"
   ]
  },
  {
   "cell_type": "markdown",
   "metadata": {},
   "source": [
    "El valor que aparece ahí va entre `0` (nada en común) y `1` (iguales). En este caso, vemos que funciona bastante bien.\n",
    "\n",
    "Lo que haremos será crear un diccionario. Así:"
   ]
  },
  {
   "cell_type": "code",
   "execution_count": null,
   "metadata": {},
   "outputs": [],
   "source": [
    "from itertools import product\n",
    "\n",
    "muni_name_map = {}\n",
    "\n",
    "for a, b in product(municipality_modal_partition.index, municipalities_by_home_income.index):\n",
    "    if similar(a, b) > 0.75:\n",
    "        print('Original:', a, '| Similar:', b, '. Ratio:', similar(a, b))\n",
    "        muni_name_map[a] = b"
   ]
  },
  {
   "cell_type": "markdown",
   "metadata": {},
   "source": [
    "Ahora crearemos una nueva columna utilizando el diccionario, y finalmente uniremos los dataframes con características municipales que hemos calculado para ambas encuestas:"
   ]
  },
  {
   "cell_type": "code",
   "execution_count": null,
   "metadata": {},
   "outputs": [],
   "source": [
    "municipality_modal_partition['municipality'] = [muni_name_map[x] for x in municipality_modal_partition.index]\n",
    "municipality_modal_partition.set_index('municipality', inplace=True)"
   ]
  },
  {
   "cell_type": "code",
   "execution_count": null,
   "metadata": {},
   "outputs": [],
   "source": [
    "municipality_features = municipality_features.join(municipality_modal_partition)\n",
    "municipality_features.head()"
   ]
  },
  {
   "cell_type": "markdown",
   "metadata": {},
   "source": [
    "El siguiente paso es crear una matriz de correlaciones entre columnas de este dataframe:"
   ]
  },
  {
   "cell_type": "code",
   "execution_count": null,
   "metadata": {},
   "outputs": [],
   "source": [
    "corr = municipality_features.corr(method='spearman')\n",
    "corr.sample(5)"
   ]
  },
  {
   "cell_type": "markdown",
   "metadata": {},
   "source": [
    "Una matriz que podemos visualizar con `sns.heatmap`:"
   ]
  },
  {
   "cell_type": "code",
   "execution_count": null,
   "metadata": {},
   "outputs": [],
   "source": [
    "plt.figure(figsize=(9,9))\n",
    "sns.heatmap(corr, square=True, annot=True, robust=True, center=0, cmap='PuOr', linewidth=1,\n",
    "           cbar=False)"
   ]
  },
  {
   "cell_type": "markdown",
   "metadata": {},
   "source": [
    "Nuevamente, dejo propuesta la interpretación de este gráfico.\n",
    "\n",
    "Guardaremos los resultados de nuestro análisis para explorarlo en la siguiente clase:"
   ]
  },
  {
   "cell_type": "code",
   "execution_count": null,
   "metadata": {},
   "outputs": [],
   "source": [
    "municipality_features"
   ]
  },
  {
   "cell_type": "code",
   "execution_count": null,
   "metadata": {},
   "outputs": [],
   "source": [
    "municipality_features.to_csv('./intermediate/municipality_features.csv')"
   ]
  },
  {
   "cell_type": "code",
   "execution_count": null,
   "metadata": {},
   "outputs": [],
   "source": [
    "!head intermediate/municipality_features.csv"
   ]
  },
  {
   "cell_type": "code",
   "execution_count": null,
   "metadata": {},
   "outputs": [],
   "source": []
  }
 ],
 "metadata": {
  "anaconda-cloud": {},
  "kernelspec": {
   "display_name": "Python 3",
   "language": "python",
   "name": "python3"
  },
  "language_info": {
   "codemirror_mode": {
    "name": "ipython",
    "version": 3
   },
   "file_extension": ".py",
   "mimetype": "text/x-python",
   "name": "python",
   "nbconvert_exporter": "python",
   "pygments_lexer": "ipython3",
   "version": "3.5.2"
  }
 },
 "nbformat": 4,
 "nbformat_minor": 2
}
